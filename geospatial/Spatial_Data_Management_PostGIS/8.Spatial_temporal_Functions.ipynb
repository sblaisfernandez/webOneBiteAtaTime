{
 "cells": [
  {
   "cell_type": "markdown",
   "metadata": {},
   "source": [
    "# Spatial Temporal Functions\n",
    "\n",
    "\n",
    "- [PostGIS Special Functions Index](https://postgis.net/docs/manual-3.2/PostGIS_Special_Functions_Index.html)\n",
    "- [PostGIS Reference](https://postgis.net/docs/reference.html#PostGIS_Types)"
   ]
  }
 ],
 "metadata": {
  "language_info": {
   "name": "python"
  }
 },
 "nbformat": 4,
 "nbformat_minor": 2
}
