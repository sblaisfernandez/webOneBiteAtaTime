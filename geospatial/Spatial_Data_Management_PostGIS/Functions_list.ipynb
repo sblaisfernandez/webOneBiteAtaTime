{
 "cells": [
  {
   "cell_type": "markdown",
   "id": "8d580020",
   "metadata": {},
   "source": [
    "## Function List\n",
    "\n",
    "\n",
    "[ST\\_Area][]: Returns the area of the surface if it is a polygon or\n",
    "multi-polygon. For \"geometry\" type area is in SRID units. For\n",
    "\"geography\" area is in square meters.\n",
    "\n",
    "[ST\\_AsText][]: Returns the Well-Known Text (WKT) representation of the\n",
    "geometry/geography without SRID metadata.\n",
    "\n",
    "[ST\\_AsBinary][]: Returns the Well-Known Binary (WKB) representation of\n",
    "the geometry/geography without SRID meta data.\n",
    "\n",
    "[ST\\_EndPoint][]: Returns the last point of a LINESTRING geometry as a\n",
    "POINT.\n",
    "\n",
    "[ST\\_AsEWKB][]: Returns the Well-Known Binary (WKB) representation of\n",
    "the geometry with SRID meta data.\n",
    "\n",
    "[ST\\_AsEWKT][]: Returns the Well-Known Text (WKT) representation of the\n",
    "geometry with SRID meta data.\n",
    "\n",
    "[ST\\_AsGeoJSON][]: Returns the geometry as a GeoJSON element.\n",
    "\n",
    "[ST\\_AsGML][]: Returns the geometry as a GML version 2 or 3 element.\n",
    "\n",
    "[ST\\_AsKML][]: Returns the geometry as a KML element. Several variants.\n",
    "Default version=2, default precision=15.\n",
    "\n",
    "[ST\\_AsSVG][]: Returns a Geometry in SVG path data given a geometry or\n",
    "geography object.\n",
    "\n",
    "[ST\\_ExteriorRing][]: Returns a line string representing the exterior\n",
    "ring of the POLYGON geometry. Return NULL if the geometry is not a\n",
    "polygon. Will not work with MULTIPOLYGON\n",
    "\n",
    "[ST\\_GeometryN][]: Returns the 1-based Nth geometry if the geometry is a\n",
    "GEOMETRYCOLLECTION, MULTIPOINT, MULTILINESTRING, MULTICURVE or\n",
    "MULTIPOLYGON. Otherwise, return NULL.\n",
    "\n",
    "[ST\\_GeomFromGML][]: Takes as input GML representation of geometry and\n",
    "outputs a PostGIS geometry object.\n",
    "\n",
    "[ST\\_GeomFromKML][]: Takes as input KML representation of geometry and\n",
    "outputs a PostGIS geometry object\n",
    "\n",
    "[ST\\_GeomFromText][]: Returns a specified ST\\_Geometry value from\n",
    "Well-Known Text representation (WKT).\n",
    "\n",
    "[ST\\_GeomFromWKB][]: Creates a geometry instance from a Well-Known\n",
    "Binary geometry representation (WKB) and optional SRID.\n",
    "\n",
    "[ST\\_GeometryType][]: Returns the geometry type of the ST\\_Geometry\n",
    "value.\n",
    "\n",
    "[ST\\_InteriorRingN][]: Returns the Nth interior linestring ring of the\n",
    "polygon geometry. Return NULL if the geometry is not a polygon or the\n",
    "given N is out of range.\n",
    "\n",
    "[ST\\_Length][]: Returns the 2d length of the geometry if it is a\n",
    "linestring or multilinestring. geometry are in units of spatial\n",
    "reference and geogra\n",
    "\n",
    "  [ST\\_Area]: http://postgis.net/docs/ST_Area.html\n",
    "  [ST\\_AsText]: http://postgis.net/docs/ST_AsText.html\n",
    "  [ST\\_AsBinary]: http://postgis.net/docs/ST_AsBinary.html\n",
    "  [ST\\_EndPoint]: http://postgis.net/docs/ST_EndPoint.html\n",
    "  [ST\\_AsEWKB]: http://postgis.net/docs/ST_AsEWKB.html\n",
    "  [ST\\_AsEWKT]: http://postgis.net/docs/ST_AsEWKT.html\n",
    "  [ST\\_AsGeoJSON]: http://postgis.net/docs/ST_AsGeoJSON.html\n",
    "  [ST\\_AsGML]: http://postgis.net/docs/ST_AsGML.html\n",
    "  [ST\\_AsKML]: http://postgis.net/docs/ST_AsKML.html\n",
    "  [ST\\_AsSVG]: http://postgis.net/docs/ST_AsSVG.html\n",
    "  [ST\\_ExteriorRing]: http://postgis.net/docs/ST_ExteriorRing.html\n",
    "  [ST\\_GeometryN]: http://postgis.net/docs/ST_GeometryN.html\n",
    "  [ST\\_GeomFromGML]: http://postgis.net/docs/ST_GeomFromGML.html\n",
    "  [ST\\_GeomFromKML]: http://postgis.net/docs/ST_GeomFromKML.html\n",
    "  [ST\\_GeomFromText]: http://postgis.net/docs/ST_GeomFromText.html\n",
    "  [ST\\_GeomFromWKB]: http://postgis.net/docs/ST_GeomFromWKB.html\n",
    "  [ST\\_GeometryType]: http://postgis.net/docs/ST_GeometryType.html\n",
    "  [ST\\_InteriorRingN]: http://postgis.net/docs/ST_InteriorRingN.html\n",
    "  [ST\\_Length]: http://postgis.net/docs/ST_Length.html"
   ]
  }
 ],
 "metadata": {
  "celltoolbar": "Tags",
  "hide_input": false,
  "kernelspec": {
   "display_name": "geoenv",
   "language": "python",
   "name": "python3"
  },
  "language_info": {
   "codemirror_mode": {
    "name": "ipython",
    "version": 3
   },
   "file_extension": ".py",
   "mimetype": "text/x-python",
   "name": "python",
   "nbconvert_exporter": "python",
   "pygments_lexer": "ipython3",
   "version": "3.11.9"
  },
  "toc": {
   "base_numbering": 1,
   "nav_menu": {},
   "number_sections": true,
   "sideBar": true,
   "skip_h1_title": false,
   "title_cell": "Table of Contents",
   "title_sidebar": "Contents",
   "toc_cell": false,
   "toc_position": {},
   "toc_section_display": true,
   "toc_window_display": false
  },
  "varInspector": {
   "cols": {
    "lenName": 16,
    "lenType": 16,
    "lenVar": 40
   },
   "kernels_config": {
    "python": {
     "delete_cmd_postfix": "",
     "delete_cmd_prefix": "del ",
     "library": "var_list.py",
     "varRefreshCmd": "print(var_dic_list())"
    },
    "r": {
     "delete_cmd_postfix": ") ",
     "delete_cmd_prefix": "rm(",
     "library": "var_list.r",
     "varRefreshCmd": "cat(var_dic_list()) "
    }
   },
   "types_to_exclude": [
    "module",
    "function",
    "builtin_function_or_method",
    "instance",
    "_Feature"
   ],
   "window_display": false
  }
 },
 "nbformat": 4,
 "nbformat_minor": 5
}
