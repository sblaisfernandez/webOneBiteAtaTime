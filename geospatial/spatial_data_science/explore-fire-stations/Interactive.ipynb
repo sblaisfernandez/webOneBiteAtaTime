{
 "cells": [
  {
   "cell_type": "code",
   "execution_count": null,
   "id": "727a2c4b-94a8-4e7d-99c4-c80014eaa168",
   "metadata": {},
   "outputs": [],
   "source": [
    "import geopandas as gpd\n",
    "import pandas as pd\n",
    "import matplotlib.pyplot as plt\n",
    "import fiona\n",
    "from shapely import wkt\n",
    "from sqlalchemy import create_engine\n",
    "import requests, zipfile, io\n",
    "from io import StringIO"
   ]
  },
  {
   "cell_type": "code",
   "execution_count": null,
   "id": "3c4262b2-4313-4bb3-8c06-c9d6ff172c4d",
   "metadata": {},
   "outputs": [],
   "source": [
    "dataFolderRelativePath = './data'\n",
    "\n",
    "## DataSources\n",
    "fireStationsUrl = 'https://geoegl.msp.gouv.qc.ca/apis/wss/incendie.fcgi?service=wfs&version=1.1.0&request=getfeature&typename=MSP_CASERNE_PUBLIC&outputformat=CSV'\n",
    "adminBoundariesUrl = 'https://diffusion.mern.gouv.qc.ca/Diffusion/RGQ/Vectoriel/Theme/Local/SDA_20k/FGDB/SDA.gdb.zip'\n",
    "quebecBuildingUrl = 'https://www.donneesquebec.ca/recherche/dataset/d2a34f6d-3750-44e9-9a6d-aa9494a34df7/resource/0920b952-b349-4ddd-a7e3-eebf6f6b6336/download/vdq-batiments.csv'\n",
    "\n",
    "#### Carte de vigilance multirisque-avertissements et alertes d'Environnement et Changement climatique Canada\n",
    "vigilanceUrl = 'https://www.donneesquebec.ca/recherche/dataset/carte-vigilance-multirisque-meteo-alerte-ec'\n",
    "#### Événements de sécurité civile\n",
    "eventsCivilSecurityUrl = 'https://www.donneesquebec.ca/recherche/dataset/evenements-de-securite-civile'\n",
    "#### Water flood\n",
    "floodingUrl = 'https://www.donneesquebec.ca/recherche/dataset/cartographie-des-inondations-du-printemps-2023'"
   ]
  },
  {
   "cell_type": "code",
   "execution_count": null,
   "id": "f976c48a-f60d-4154-a914-f753a091821a",
   "metadata": {},
   "outputs": [],
   "source": [
    "plot([0,1,2], [0,1,4])"
   ]
  }
 ],
 "metadata": {
  "language_info": {
   "name": "python"
  }
 },
 "nbformat": 4,
 "nbformat_minor": 2
}
